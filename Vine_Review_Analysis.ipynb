{
  "nbformat": 4,
  "nbformat_minor": 0,
  "metadata": {
    "colab": {
      "name": "Vine_Review_Analysis.ipynb",
      "provenance": []
    },
    "kernelspec": {
      "name": "python3",
      "display_name": "Python 3"
    },
    "language_info": {
      "name": "python"
    }
  },
  "cells": [
    {
      "cell_type": "code",
      "source": [
        "import os\n",
        "# Find the latest version of spark 3.0  from http://www.apache.org/dist/spark/ and enter as the spark version\n",
        "# For example:\n",
        "# spark_version = 'spark-3.0.3'\n",
        "spark_version = 'spark-3.0.3'\n",
        "os.environ['SPARK_VERSION']=spark_version\n",
        "\n",
        "# Install Spark and Java\n",
        "!apt-get update\n",
        "!apt-get install openjdk-11-jdk-headless -qq > /dev/null\n",
        "!wget -q http://www.apache.org/dist/spark/$SPARK_VERSION/$SPARK_VERSION-bin-hadoop2.7.tgz\n",
        "!tar xf $SPARK_VERSION-bin-hadoop2.7.tgz\n",
        "!pip install -q findspark\n",
        "\n",
        "# Set Environment Variables\n",
        "import os\n",
        "os.environ[\"JAVA_HOME\"] = \"/usr/lib/jvm/java-11-openjdk-amd64\"\n",
        "os.environ[\"SPARK_HOME\"] = f\"/content/{spark_version}-bin-hadoop2.7\"\n",
        "\n",
        "# Start a SparkSession\n",
        "import findspark\n",
        "findspark.init()"
      ],
      "metadata": {
        "colab": {
          "base_uri": "https://localhost:8080/"
        },
        "id": "OCGbXYEBnJ7s",
        "outputId": "88489eec-37a5-42e5-d521-65b0cfb9ffc4"
      },
      "execution_count": 2,
      "outputs": [
        {
          "output_type": "stream",
          "name": "stdout",
          "text": [
            "\r0% [Working]\r            \rHit:1 https://cloud.r-project.org/bin/linux/ubuntu bionic-cran40/ InRelease\n",
            "Ign:2 https://developer.download.nvidia.com/compute/cuda/repos/ubuntu1804/x86_64  InRelease\n",
            "Ign:3 https://developer.download.nvidia.com/compute/machine-learning/repos/ubuntu1804/x86_64  InRelease\n",
            "Hit:4 https://developer.download.nvidia.com/compute/cuda/repos/ubuntu1804/x86_64  Release\n",
            "Hit:5 https://developer.download.nvidia.com/compute/machine-learning/repos/ubuntu1804/x86_64  Release\n",
            "Hit:6 http://security.ubuntu.com/ubuntu bionic-security InRelease\n",
            "Hit:7 http://ppa.launchpad.net/c2d4u.team/c2d4u4.0+/ubuntu bionic InRelease\n",
            "Hit:9 http://archive.ubuntu.com/ubuntu bionic InRelease\n",
            "Hit:11 http://archive.ubuntu.com/ubuntu bionic-updates InRelease\n",
            "Hit:12 http://ppa.launchpad.net/cran/libgit2/ubuntu bionic InRelease\n",
            "Hit:13 http://archive.ubuntu.com/ubuntu bionic-backports InRelease\n",
            "Hit:14 http://ppa.launchpad.net/deadsnakes/ppa/ubuntu bionic InRelease\n",
            "Hit:15 http://ppa.launchpad.net/graphics-drivers/ppa/ubuntu bionic InRelease\n",
            "Reading package lists... Done\n"
          ]
        }
      ]
    },
    {
      "cell_type": "code",
      "source": [
        "from pyspark.sql import SparkSession\n",
        "spark = SparkSession.builder.appName(\"BigData-Challenge\").config(\"spark.driver.extraClassPath\",\"/content/postgresql-42.2.16.jar\").getOrCreate()"
      ],
      "metadata": {
        "id": "o_2D0dgBn5NH"
      },
      "execution_count": 3,
      "outputs": []
    },
    {
      "cell_type": "code",
      "source": [
        "from pyspark import SparkFiles\n",
        "url = \"https://s3.amazonaws.com/amazon-reviews-pds/tsv/amazon_reviews_us_Gift_Card_v1_00.tsv.gz\"\n",
        "spark.sparkContext.addFile(url)\n",
        "df = spark.read.option(\"encoding\", \"UTF-8\").csv(SparkFiles.get(\"\"), sep=\"\\t\", header=True, inferSchema=True)\n",
        "df.show()"
      ],
      "metadata": {
        "colab": {
          "base_uri": "https://localhost:8080/"
        },
        "id": "uoKy4ei_oT9i",
        "outputId": "2b08cccd-c9d3-4e3d-b9a7-1b6f3ba179aa"
      },
      "execution_count": 4,
      "outputs": [
        {
          "output_type": "stream",
          "name": "stdout",
          "text": [
            "+-----------+-----------+--------------+----------+--------------+--------------------+----------------+-----------+-------------+-----------+----+-----------------+--------------------+--------------------+-----------+\n",
            "|marketplace|customer_id|     review_id|product_id|product_parent|       product_title|product_category|star_rating|helpful_votes|total_votes|vine|verified_purchase|     review_headline|         review_body|review_date|\n",
            "+-----------+-----------+--------------+----------+--------------+--------------------+----------------+-----------+-------------+-----------+----+-----------------+--------------------+--------------------+-----------+\n",
            "|         US|   24371595|R27ZP1F1CD0C3Y|B004LLIL5A|     346014806|Amazon eGift Card...|       Gift Card|          5|            0|          0|   N|                Y|          Five Stars|Great birthday gi...| 2015-08-31|\n",
            "|         US|   42489718| RJ7RSBCHUDNNE|B004LLIKVU|     473048287|Amazon.com eGift ...|       Gift Card|          5|            0|          0|   N|                Y|Gift card for the...|It's an Amazon gi...| 2015-08-31|\n",
            "|         US|     861463|R1HVYBSKLQJI5S|B00IX1I3G6|     926539283|Amazon.com Gift C...|       Gift Card|          5|            0|          0|   N|                Y|          Five Stars|                Good| 2015-08-31|\n",
            "|         US|   25283295|R2HAXF0IIYQBIR|B00IX1I3G6|     926539283|Amazon.com Gift C...|       Gift Card|          1|            0|          0|   N|                Y|            One Star|                Fair| 2015-08-31|\n",
            "|         US|     397970| RNYLPX611NB7Q|B005ESMGV4|     379368939|Amazon.com Gift C...|       Gift Card|          5|            0|          0|   N|                Y|          Five Stars|I can't believe h...| 2015-08-31|\n",
            "|         US|   18513645|R3ALA9XXMBEDZR|B004KNWWU4|     326384774|Amazon Gift Card ...|       Gift Card|          5|            0|          0|   N|                Y|Perfect for most ...|Perfect!  Nice & ...| 2015-08-31|\n",
            "|         US|   22484620|R3R8PHAVJFTPDF|B004LLIKVU|     473048287|Amazon.com eGift ...|       Gift Card|          5|            0|          0|   N|                Y|          Five Stars|            excelent| 2015-08-31|\n",
            "|         US|   14765851|R18WWEK8OIXE30|BT00CTP2EE|     775486538|Amazon.com Gift C...|       Gift Card|          5|            0|          0|   N|                Y|          Five Stars|Great and Safe Gi...| 2015-08-31|\n",
            "|         US|   18751931|R1EGUNQON2J277|B004LLIKVU|     473048287|Amazon.com eGift ...|       Gift Card|          1|            0|          0|   N|                Y|            One Star|       What?????????| 2015-08-31|\n",
            "|         US|   15100528|R21Z4M4L98CPU2|B004W8D102|     595099956|Amazon Gift Card ...|       Gift Card|          5|            0|          0|   N|                Y|          Five Stars|This was just too...| 2015-08-31|\n",
            "|         US|    3559726| R6JH7A117FHFA|B004LLIKVU|     473048287|Amazon.com eGift ...|       Gift Card|          5|            0|          0|   N|                Y|          Five Stars|                Bien| 2015-08-31|\n",
            "|         US|   23413911|R1XZHS8M1GCGI7|B004KNWWU4|     326384774|Amazon Gift Card ...|       Gift Card|          5|            1|          1|   N|                Y|         Always good|Easy to print fro...| 2015-08-31|\n",
            "|         US|    2026222|R1DAI0N03SKRJN|B004LLIKVU|     473048287|Amazon.com eGift ...|       Gift Card|          5|            1|          1|   N|                Y|          Five Stars|Amazing with 10 d...| 2015-08-31|\n",
            "|         US|   32956435|R2F6SKZOEYQRU3|B004LLIKVU|     473048287|Amazon.com eGift ...|       Gift Card|          5|            0|          0|   N|                N|          Five Stars|Remember Matthew ...| 2015-08-31|\n",
            "|         US|   20241560| RIBOP6OEAZA47|B00H5BNLUS|     637715957|Amazon eGift Card...|       Gift Card|          5|            1|          1|   N|                Y|          Five Stars|                good| 2015-08-31|\n",
            "|         US|   10670435|R15H8E7WD6XD29|B004KNWX6C|     763371347|Amazon Gift Card ...|       Gift Card|          5|            0|          0|   N|                Y|          Five Stars|Awesome way to se...| 2015-08-31|\n",
            "|         US|   48872127| RVN4P3RU4F8IE|BT00CTOYC0|     506740729|Amazon.com $15 Gi...|       Gift Card|          5|            0|          0|   N|                Y|Quick Solution fo...|I love that I hav...| 2015-08-31|\n",
            "|         US|     460630| RCS8F9JCAAXC7|B004LLIKVU|     473048287|Amazon.com eGift ...|       Gift Card|          4|            0|          0|   N|                Y|          Four Stars|Good gift. Easy t...| 2015-08-31|\n",
            "|         US|   41238378| R6811C4E7UYL2|B00H5BMH44|      81025991|Amazon eGift Card...|       Gift Card|          5|            0|          0|   N|                Y|  Satisfied customer|Satisfied as usua...| 2015-08-31|\n",
            "|         US|   14222739|R196T0NZ73TYIM|B005ESMMKE|     459536087|Amazon.com Gift C...|       Gift Card|          5|            1|          1|   N|                Y|          Five Stars|                nice| 2015-08-31|\n",
            "+-----------+-----------+--------------+----------+--------------+--------------------+----------------+-----------+-------------+-----------+----+-----------------+--------------------+--------------------+-----------+\n",
            "only showing top 20 rows\n",
            "\n"
          ]
        }
      ]
    },
    {
      "cell_type": "code",
      "source": [
        "#filter the dataset for total_votes being greater than or equal to 20\n",
        "vine_df = df.select([\"review_id\",\"star_rating\",\"helpful_votes\",\"total_votes\",\"vine\",\"verified_purchase\"])\n",
        "vote_count = df.filter(\"total_votes >= 20\")"
      ],
      "metadata": {
        "id": "wTfn7u0goopC"
      },
      "execution_count": 5,
      "outputs": []
    },
    {
      "cell_type": "code",
      "source": [
        "#create a new DataFrame or table to retrieve all the rows where the number of helpful_votes divided by total_votes is equal to or greater than 50%.\n",
        "new_table = vote_count.filter(vote_count[\"helpful_votes\"]/vote_count[\"total_votes\"]>=0.5)\n",
        "new_table.show()"
      ],
      "metadata": {
        "colab": {
          "base_uri": "https://localhost:8080/"
        },
        "id": "cey6OXQJoot0",
        "outputId": "e48c0307-ed22-4bc9-9e53-2235eb0c3a59"
      },
      "execution_count": 6,
      "outputs": [
        {
          "output_type": "stream",
          "name": "stdout",
          "text": [
            "+-----------+-----------+--------------+----------+--------------+--------------------+----------------+-----------+-------------+-----------+----+-----------------+--------------------+--------------------+-----------+\n",
            "|marketplace|customer_id|     review_id|product_id|product_parent|       product_title|product_category|star_rating|helpful_votes|total_votes|vine|verified_purchase|     review_headline|         review_body|review_date|\n",
            "+-----------+-----------+--------------+----------+--------------+--------------------+----------------+-----------+-------------+-----------+----+-----------------+--------------------+--------------------+-----------+\n",
            "|         US|   18888920|R36PQ9D8L2AAOH|B00JDQJVF2|     255898874|Amazon.com Gift C...|       Gift Card|          5|           30|         32|   N|                Y|          Five Stars|Love this adorabl...| 2015-08-26|\n",
            "|         US|    4765280|R23GHBE86II0SK|B007V6ETDK|     924812503|Amazon eGift Card...|       Gift Card|          5|           18|         21|   N|                Y|Los Angeles Alway...|      Great idea Ama| 2015-08-18|\n",
            "|         US|   39230280|R18KVPY0TO33BM|B00JDQJVF2|     255898874|Amazon.com Gift C...|       Gift Card|          5|          241|        248|   N|                Y|Very sweet and co...|I am very impress...| 2015-08-16|\n",
            "|         US|     167348|R2ZB78BDM8BRCF|B004LLIKVU|     473048287|Amazon.com eGift ...|       Gift Card|          1|           99|        113|   N|                Y|             Scammed|You should have a...| 2015-08-13|\n",
            "|         US|   16553928|R2JMJOWGM7V7NX|BT00CTP6MM|     775486538|Amazon.com Gift C...|       Gift Card|          4|           20|         20|   N|                N|          Four Stars|Thank you note wa...| 2015-07-24|\n",
            "|         US|   39357721|R10ORTN0I3G5B9|B00IX1I3G6|     926539283|Amazon.com Gift C...|       Gift Card|          1|           19|         26|   N|                Y|It is getting clo...|Gift cards are no...| 2015-07-18|\n",
            "|         US|   43437405|R1D1VPJBTP1WG8|B00IX1I3G6|     926539283|Amazon.com Gift C...|       Gift Card|          1|           38|         51|   N|                Y|I am still waitin...|I recently tried ...| 2015-07-13|\n",
            "|         US|   50118836|R3Q3ULUTULAQYH|B00IX1I3G6|     926539283|Amazon.com Gift C...|       Gift Card|          1|           22|         29|   N|                Y|      Not impressed.|Am not impressed....| 2015-07-11|\n",
            "|         US|   20020797|R1SHEELXA1IXQP|B00A48G0D4|     848703272|Amazon eGift Card...|       Gift Card|          5|           45|         57|   N|                Y|These gift cards ...|These are handy! ...| 2015-07-10|\n",
            "|         US|     212175|R1IQJ99JOPJOE4|B004LLIKVU|     473048287|Amazon.com eGift ...|       Gift Card|          5|           73|         94|   N|                N|                😅😂|Ok, I haven't bou...| 2015-07-08|\n",
            "|         US|     338223|R32PHGNOUNJVY2|B004LLIKVU|     473048287|Amazon.com eGift ...|       Gift Card|          1|          111|        150|   N|                Y|            One Star|the Quality is ve...| 2015-07-06|\n",
            "|         US|     256644|R32HQ18L7FOP3N|B005FGQHKQ|     379368939|Amazon.com Gift C...|       Gift Card|          1|           18|         23|   N|                N|              Read!!|Most of the 5-sta...| 2015-07-06|\n",
            "|         US|   50541491|R2IPGL0F4OCNO9|B00JFBLZ90|     255898874|Amazon.com Gift C...|       Gift Card|          1|           18|         24|   N|                N|I ordered a gift ...|I ordered a gift ...| 2015-06-24|\n",
            "|         US|    2547198| R4RNS35ZXYWSU|B00JDQKELW|     832087091|Amazon.com Gift C...|       Gift Card|          2|           52|         59|   N|                Y|   Dented Metal Case|Though the card w...| 2015-06-22|\n",
            "|         US|    2290967| R5S7HIQAWL5QS|B0091JL2CQ|     349029296|Amazon.com Gift C...|       Gift Card|          5|           48|         49|   N|                Y|This is seriously...|I purchased this ...| 2015-06-14|\n",
            "|         US|   50733118|R12LGU9RL181NG|B004LLIKVU|     473048287|Amazon.com eGift ...|       Gift Card|          1|         5987|       6323|   N|                Y|Amazon should do ...|I think I am just...| 2015-06-13|\n",
            "|         US|   21950425|R1ZMHE6AO0T6MO|B00CHQKIDE|     564167907|Amazon.com Gift C...|       Gift Card|          5|           67|         75|   N|                N|          Five Stars|     Awesome to have| 2015-06-11|\n",
            "|         US|    1356854| R66RKRKYK3VMO|B0066AZGD4|     136017760|Amazon eGift Card...|       Gift Card|          5|           74|         89|   N|                Y|\"When you really ...|Love that you can...| 2015-06-05|\n",
            "|         US|    3250748| R1SVG06BEMESM|B004LLIKVU|     473048287|Amazon.com eGift ...|       Gift Card|          5|           92|        126|   N|                Y|my first order of...|this is the third...| 2015-06-04|\n",
            "|         US|   52940323|R1Q5MWSSP3RMYJ|B00JDQJVF2|     255898874|Amazon.com Gift C...|       Gift Card|          1|           25|         29|   N|                Y|Risky Gift Card D...|What's not to lik...| 2015-06-03|\n",
            "+-----------+-----------+--------------+----------+--------------+--------------------+----------------+-----------+-------------+-----------+----+-----------------+--------------------+--------------------+-----------+\n",
            "only showing top 20 rows\n",
            "\n"
          ]
        }
      ]
    },
    {
      "cell_type": "code",
      "source": [
        "#reate a new DataFrame or table that retrieves all the rows where a review was written as part of the Vine program (paid), vine == 'Y'\n",
        "new_table.filter(new_table[\"vine\"] == \"Y\").show()"
      ],
      "metadata": {
        "colab": {
          "base_uri": "https://localhost:8080/"
        },
        "id": "U1q0jXNVoxxe",
        "outputId": "14fc579c-4f4f-46ce-be18-25dae43fe7b1"
      },
      "execution_count": 7,
      "outputs": [
        {
          "output_type": "stream",
          "name": "stdout",
          "text": [
            "+-----------+-----------+---------+----------+--------------+-------------+----------------+-----------+-------------+-----------+----+-----------------+---------------+-----------+-----------+\n",
            "|marketplace|customer_id|review_id|product_id|product_parent|product_title|product_category|star_rating|helpful_votes|total_votes|vine|verified_purchase|review_headline|review_body|review_date|\n",
            "+-----------+-----------+---------+----------+--------------+-------------+----------------+-----------+-------------+-----------+----+-----------------+---------------+-----------+-----------+\n",
            "+-----------+-----------+---------+----------+--------------+-------------+----------------+-----------+-------------+-----------+----+-----------------+---------------+-----------+-----------+\n",
            "\n"
          ]
        }
      ]
    },
    {
      "cell_type": "code",
      "source": [
        "#Create a new DataFrame or table that retrieves all the rows where a review was written as part of the Vine program (paid), vine == 'N'\n",
        "new_table.filter(new_table[\"vine\"] == \"N\").show()"
      ],
      "metadata": {
        "colab": {
          "base_uri": "https://localhost:8080/"
        },
        "id": "MiPmBWzeo-t9",
        "outputId": "7669605f-8f9d-492d-e61a-8a67688511f1"
      },
      "execution_count": 8,
      "outputs": [
        {
          "output_type": "stream",
          "name": "stdout",
          "text": [
            "+-----------+-----------+--------------+----------+--------------+--------------------+----------------+-----------+-------------+-----------+----+-----------------+--------------------+--------------------+-----------+\n",
            "|marketplace|customer_id|     review_id|product_id|product_parent|       product_title|product_category|star_rating|helpful_votes|total_votes|vine|verified_purchase|     review_headline|         review_body|review_date|\n",
            "+-----------+-----------+--------------+----------+--------------+--------------------+----------------+-----------+-------------+-----------+----+-----------------+--------------------+--------------------+-----------+\n",
            "|         US|   18888920|R36PQ9D8L2AAOH|B00JDQJVF2|     255898874|Amazon.com Gift C...|       Gift Card|          5|           30|         32|   N|                Y|          Five Stars|Love this adorabl...| 2015-08-26|\n",
            "|         US|    4765280|R23GHBE86II0SK|B007V6ETDK|     924812503|Amazon eGift Card...|       Gift Card|          5|           18|         21|   N|                Y|Los Angeles Alway...|      Great idea Ama| 2015-08-18|\n",
            "|         US|   39230280|R18KVPY0TO33BM|B00JDQJVF2|     255898874|Amazon.com Gift C...|       Gift Card|          5|          241|        248|   N|                Y|Very sweet and co...|I am very impress...| 2015-08-16|\n",
            "|         US|     167348|R2ZB78BDM8BRCF|B004LLIKVU|     473048287|Amazon.com eGift ...|       Gift Card|          1|           99|        113|   N|                Y|             Scammed|You should have a...| 2015-08-13|\n",
            "|         US|   16553928|R2JMJOWGM7V7NX|BT00CTP6MM|     775486538|Amazon.com Gift C...|       Gift Card|          4|           20|         20|   N|                N|          Four Stars|Thank you note wa...| 2015-07-24|\n",
            "|         US|   39357721|R10ORTN0I3G5B9|B00IX1I3G6|     926539283|Amazon.com Gift C...|       Gift Card|          1|           19|         26|   N|                Y|It is getting clo...|Gift cards are no...| 2015-07-18|\n",
            "|         US|   43437405|R1D1VPJBTP1WG8|B00IX1I3G6|     926539283|Amazon.com Gift C...|       Gift Card|          1|           38|         51|   N|                Y|I am still waitin...|I recently tried ...| 2015-07-13|\n",
            "|         US|   50118836|R3Q3ULUTULAQYH|B00IX1I3G6|     926539283|Amazon.com Gift C...|       Gift Card|          1|           22|         29|   N|                Y|      Not impressed.|Am not impressed....| 2015-07-11|\n",
            "|         US|   20020797|R1SHEELXA1IXQP|B00A48G0D4|     848703272|Amazon eGift Card...|       Gift Card|          5|           45|         57|   N|                Y|These gift cards ...|These are handy! ...| 2015-07-10|\n",
            "|         US|     212175|R1IQJ99JOPJOE4|B004LLIKVU|     473048287|Amazon.com eGift ...|       Gift Card|          5|           73|         94|   N|                N|                😅😂|Ok, I haven't bou...| 2015-07-08|\n",
            "|         US|     338223|R32PHGNOUNJVY2|B004LLIKVU|     473048287|Amazon.com eGift ...|       Gift Card|          1|          111|        150|   N|                Y|            One Star|the Quality is ve...| 2015-07-06|\n",
            "|         US|     256644|R32HQ18L7FOP3N|B005FGQHKQ|     379368939|Amazon.com Gift C...|       Gift Card|          1|           18|         23|   N|                N|              Read!!|Most of the 5-sta...| 2015-07-06|\n",
            "|         US|   50541491|R2IPGL0F4OCNO9|B00JFBLZ90|     255898874|Amazon.com Gift C...|       Gift Card|          1|           18|         24|   N|                N|I ordered a gift ...|I ordered a gift ...| 2015-06-24|\n",
            "|         US|    2547198| R4RNS35ZXYWSU|B00JDQKELW|     832087091|Amazon.com Gift C...|       Gift Card|          2|           52|         59|   N|                Y|   Dented Metal Case|Though the card w...| 2015-06-22|\n",
            "|         US|    2290967| R5S7HIQAWL5QS|B0091JL2CQ|     349029296|Amazon.com Gift C...|       Gift Card|          5|           48|         49|   N|                Y|This is seriously...|I purchased this ...| 2015-06-14|\n",
            "|         US|   50733118|R12LGU9RL181NG|B004LLIKVU|     473048287|Amazon.com eGift ...|       Gift Card|          1|         5987|       6323|   N|                Y|Amazon should do ...|I think I am just...| 2015-06-13|\n",
            "|         US|   21950425|R1ZMHE6AO0T6MO|B00CHQKIDE|     564167907|Amazon.com Gift C...|       Gift Card|          5|           67|         75|   N|                N|          Five Stars|     Awesome to have| 2015-06-11|\n",
            "|         US|    1356854| R66RKRKYK3VMO|B0066AZGD4|     136017760|Amazon eGift Card...|       Gift Card|          5|           74|         89|   N|                Y|\"When you really ...|Love that you can...| 2015-06-05|\n",
            "|         US|    3250748| R1SVG06BEMESM|B004LLIKVU|     473048287|Amazon.com eGift ...|       Gift Card|          5|           92|        126|   N|                Y|my first order of...|this is the third...| 2015-06-04|\n",
            "|         US|   52940323|R1Q5MWSSP3RMYJ|B00JDQJVF2|     255898874|Amazon.com Gift C...|       Gift Card|          1|           25|         29|   N|                Y|Risky Gift Card D...|What's not to lik...| 2015-06-03|\n",
            "+-----------+-----------+--------------+----------+--------------+--------------------+----------------+-----------+-------------+-----------+----+-----------------+--------------------+--------------------+-----------+\n",
            "only showing top 20 rows\n",
            "\n"
          ]
        }
      ]
    },
    {
      "cell_type": "code",
      "source": [
        "# number of five star reviews\n",
        "five_star = new_table.filter(new_table[\"star_rating\"]== 5)\n",
        "five_star.cache()"
      ],
      "metadata": {
        "colab": {
          "base_uri": "https://localhost:8080/"
        },
        "id": "8ZUcbvlnpEWW",
        "outputId": "8faecae5-c65b-4cde-f26b-e9fc1ce12af1"
      },
      "execution_count": 9,
      "outputs": [
        {
          "output_type": "execute_result",
          "data": {
            "text/plain": [
              "DataFrame[marketplace: string, customer_id: int, review_id: string, product_id: string, product_parent: int, product_title: string, product_category: string, star_rating: int, helpful_votes: int, total_votes: int, vine: string, verified_purchase: string, review_headline: string, review_body: string, review_date: string]"
            ]
          },
          "metadata": {},
          "execution_count": 9
        }
      ]
    },
    {
      "cell_type": "code",
      "source": [
        "five_star.count()"
      ],
      "metadata": {
        "colab": {
          "base_uri": "https://localhost:8080/"
        },
        "id": "unI3-jZupIlJ",
        "outputId": "866fefa4-8c42-4e38-a982-142c4e112901"
      },
      "execution_count": 10,
      "outputs": [
        {
          "output_type": "execute_result",
          "data": {
            "text/plain": [
              "90"
            ]
          },
          "metadata": {},
          "execution_count": 10
        }
      ]
    },
    {
      "cell_type": "code",
      "source": [
        "#total reviews\n",
        "new_table.count()"
      ],
      "metadata": {
        "colab": {
          "base_uri": "https://localhost:8080/"
        },
        "id": "YsJNjeU9pMfV",
        "outputId": "5ace7918-4e83-4023-f61b-11dde4e28f83"
      },
      "execution_count": 11,
      "outputs": [
        {
          "output_type": "execute_result",
          "data": {
            "text/plain": [
              "355"
            ]
          },
          "metadata": {},
          "execution_count": 11
        }
      ]
    },
    {
      "cell_type": "code",
      "source": [
        "#percentage of five star reviews\n",
        "five_star.count() / new_table.count()"
      ],
      "metadata": {
        "colab": {
          "base_uri": "https://localhost:8080/"
        },
        "id": "M-wn0KEQpQmQ",
        "outputId": "c35b8a99-2509-4712-e305-00ea8c913e2c"
      },
      "execution_count": 12,
      "outputs": [
        {
          "output_type": "execute_result",
          "data": {
            "text/plain": [
              "0.2535211267605634"
            ]
          },
          "metadata": {},
          "execution_count": 12
        }
      ]
    },
    {
      "cell_type": "code",
      "source": [
        "#percentage of paid reviews\n",
        "five_star.filter(five_star[\"verified_purchase\"] == \"Y\").count()/new_table.filter(new_table[\"verified_purchase\"]== \"Y\").count()"
      ],
      "metadata": {
        "colab": {
          "base_uri": "https://localhost:8080/"
        },
        "id": "V_TagJktpVDw",
        "outputId": "c3f79409-ddd7-499b-dbc5-38ab2e8d864e"
      },
      "execution_count": 13,
      "outputs": [
        {
          "output_type": "execute_result",
          "data": {
            "text/plain": [
              "0.23076923076923078"
            ]
          },
          "metadata": {},
          "execution_count": 13
        }
      ]
    },
    {
      "cell_type": "code",
      "source": [
        "#percentage of unpaid reviews\n",
        "five_star.filter(five_star[\"verified_purchase\"] == \"N\").count()/new_table.filter(new_table[\"verified_purchase\"]== \"N\").count()"
      ],
      "metadata": {
        "colab": {
          "base_uri": "https://localhost:8080/"
        },
        "id": "A8zNV3WNpiaG",
        "outputId": "ce1ae227-aa9f-481d-d31d-8cd4597171bd"
      },
      "execution_count": 14,
      "outputs": [
        {
          "output_type": "execute_result",
          "data": {
            "text/plain": [
              "0.3157894736842105"
            ]
          },
          "metadata": {},
          "execution_count": 14
        }
      ]
    }
  ]
}